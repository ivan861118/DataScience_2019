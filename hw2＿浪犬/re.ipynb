{
 "cells": [
  {
   "cell_type": "code",
   "execution_count": 2,
   "metadata": {},
   "outputs": [],
   "source": [
    "\"\"\"\n",
    "131072\n",
    "250419\n",
    "\n",
    "\n",
    "\n",
    "\n",
    "\"\"\"\n",
    "\n",
    "\n",
    "# =============\n",
    "\n",
    "import csv\n",
    "\n",
    "data_list1 = []\n",
    "data_list2 = []\n",
    "\n",
    "csv_list1 = [\"1701_1.csv\", \"1702_1.csv\", \"1703_1.csv\", \"1704_1.csv\", \"1705_1.csv\", \"1706_1.csv\",\\\n",
    "            \"1707_1.csv\", \"1708_1.csv\", \"1709_1.csv\", \"1710_1.csv\", \"1711_1.csv\", \"1712_1.csv\",\\\n",
    "            \"1801_1.csv\", \"1802_1.csv\", \"1803_1.csv\",\"1804_1.csv\"]\n",
    "\n",
    "csv_list2 = [\"1805_1.csv\", \"1806_1.csv\",\\\n",
    "            \"1807_1.csv\", \"1808_1.csv\", \"1809_1.csv\", \"1810_1.csv\", \"1811_1.csv\", \"1812_1.csv\",\\\n",
    "            \"1901_1.csv\", \"1902_1.csv\", \"1903_1.csv\"]\n",
    "\n",
    "\n",
    "for file in csv_list1:\n",
    "    filename = \"csv_file/\" + file\n",
    "    with open(filename, 'r') as csvFile:\n",
    "        rows = csv.reader(csvFile)\n",
    "        cur = []\n",
    "        for i in rows:\n",
    "            cur.append(i)\n",
    "            \n",
    "        data_list1.append(cur)\n",
    "        \n",
    "\n",
    "for file in csv_list2:\n",
    "    filename = \"csv_file/\" + file\n",
    "    with open(filename, 'r') as csvFile:\n",
    "        rows = csv.reader(csvFile)\n",
    "        cur = []\n",
    "        for i in rows:\n",
    "            cur.append(i)\n",
    "            \n",
    "        data_list2.append(cur)\n",
    "\n",
    "# print(data_list1[0])"
   ]
  },
  {
   "cell_type": "code",
   "execution_count": 3,
   "metadata": {},
   "outputs": [],
   "source": [
    "%matplotlib inline\n",
    "import csv\n",
    "import matplotlib.pyplot as plt\n",
    "import pandas as pd\n",
    "import numpy as np\n",
    "        \n",
    "\n",
    "\n"
   ]
  },
  {
   "cell_type": "code",
   "execution_count": 4,
   "metadata": {},
   "outputs": [],
   "source": [
    "#Function Definition\n",
    "def returnY(i,j,type):\n",
    "    y = []\n",
    "    for file in data_list2:\n",
    "        row = file[i]\n",
    "        \n",
    "        if type == 'isInt':\n",
    "            if \",\" in row[j]:\n",
    "                row[j] = row[j].replace(\",\", \"\")\n",
    "        \n",
    "        \n",
    "        value = int(row[j])\n",
    "        y.append(value)\n",
    "    return y"
   ]
  },
  {
   "cell_type": "code",
   "execution_count": 18,
   "metadata": {},
   "outputs": [],
   "source": [
    "def export(i, j, data_list, type):\n",
    "    list_ex = []\n",
    "    for file in data_list:\n",
    "        value = file[i][j]\n",
    "            \n",
    "        if type == \"isInt\":\n",
    "            if \",\" in value:\n",
    "                value = value.replace(\",\", \"\")\n",
    "            \n",
    "            value = int(value)\n",
    "            \n",
    "        elif type == \"isFloat\":\n",
    "            if \",\" in value:\n",
    "                value = value.replace(\",\", \"\")\n",
    "                \n",
    "            if \"%\" in value:\n",
    "                value = value.replace(\"%\", \"\")\n",
    "                value = value * 0.01\n",
    "            \n",
    "            value = float(value)\n",
    "        \n",
    "        elif type == \"isStr\":\n",
    "            True;\n",
    "            \n",
    "        list_ex.append(value)\n",
    "    return list_ex\n",
    "\n",
    "\n"
   ]
  },
  {
   "cell_type": "code",
   "execution_count": 21,
   "metadata": {},
   "outputs": [
    {
     "name": "stdout",
     "output_type": "stream",
     "text": [
      "[617.0, 569.0, 534.0, 559.0, 518.0, 546.0, 553.0, 477.0, 503.0, 349.0, 537.0]\n"
     ]
    }
   ],
   "source": [
    "d = export(1, 1, data_list2, \"isFloat\")\n",
    "\n",
    "print(d)"
   ]
  },
  {
   "cell_type": "code",
   "execution_count": null,
   "metadata": {},
   "outputs": [],
   "source": []
  }
 ],
 "metadata": {
  "kernelspec": {
   "display_name": "Python 3",
   "language": "python",
   "name": "python3"
  },
  "language_info": {
   "codemirror_mode": {
    "name": "ipython",
    "version": 3
   },
   "file_extension": ".py",
   "mimetype": "text/x-python",
   "name": "python",
   "nbconvert_exporter": "python",
   "pygments_lexer": "ipython3",
   "version": "3.6.7"
  }
 },
 "nbformat": 4,
 "nbformat_minor": 2
}
