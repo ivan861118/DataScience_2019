{
 "cells": [
  {
   "cell_type": "code",
   "execution_count": 48,
   "metadata": {},
   "outputs": [],
   "source": [
    "\"\"\"\n",
    "131072\n",
    "250419\n",
    "\n",
    "\n",
    "\n",
    "\n",
    "\"\"\"\n",
    "\n",
    "\n",
    "# =============\n",
    "\n",
    "import csv\n",
    "\n",
    "data_list1 = []\n",
    "data_list2 = []\n",
    "\n",
    "csv_list1 = [\"1701_1.csv\", \"1702_1.csv\", \"1703_1.csv\", \"1704_1.csv\", \"1705_1.csv\", \"1706_1.csv\",\\\n",
    "            \"1707_1.csv\", \"1708_1.csv\", \"1709_1.csv\", \"1710_1.csv\", \"1711_1.csv\", \"1712_1.csv\",\\\n",
    "            \"1801_1.csv\", \"1802_1.csv\", \"1803_1.csv\",\"1804_1.csv\"]\n",
    "\n",
    "csv_list2 = [\"1805_1.csv\", \"1806_1.csv\",\\\n",
    "            \"1807_1.csv\", \"1808_1.csv\", \"1809_1.csv\", \"1810_1.csv\", \"1811_1.csv\", \"1812_1.csv\",\\\n",
    "            \"1901_1.csv\", \"1902_1.csv\", \"1903_1.csv\"]\n",
    "\n",
    "\n",
    "\n",
    "for file in csv_list1:\n",
    "    filename =  \"csv_file/\"+file\n",
    "    with open(filename, 'r') as csvFile:\n",
    "        rows = csv.reader(csvFile)\n",
    "        cur = []\n",
    "        for i in rows:\n",
    "            cur.append(i)\n",
    "            \n",
    "        data_list1.append(cur)\n",
    "        \n",
    "\n",
    "for file in csv_list2:\n",
    "    filename =  \"csv_file/\"+file\n",
    "    with open(filename, 'r') as csvFile:\n",
    "        rows = csv.reader(csvFile)\n",
    "        cur = []\n",
    "        for i in rows:\n",
    "            cur.append(i)\n",
    "            \n",
    "        data_list2.append(cur)\n",
    "\n",
    "# print(data_list1[0])"
   ]
  },
  {
   "cell_type": "code",
   "execution_count": 71,
   "metadata": {},
   "outputs": [
    {
     "name": "stdout",
     "output_type": "stream",
     "text": [
      "=======CITY======\n",
      "['新北市', '臺北市', '臺中市', '臺南市', '高雄市', '桃園市', '宜蘭縣', '新竹縣', '苗栗縣', '彰化縣', '南投縣', '雲林縣', '嘉義縣', '屏東縣', '臺東縣', '花蓮縣', '澎湖縣', '基隆市', '新竹市', '嘉義市', '金門縣', '連江縣']\n",
      "=======MONTH======\n",
      "['201805', '201806', '201807', '201808', '201809', '201810', '201811', '201812', '201901', '201902', '201903']\n"
     ]
    }
   ],
   "source": [
    "%matplotlib inline\n",
    "import csv\n",
    "import matplotlib.pyplot as plt\n",
    "import pandas as pd\n",
    "import numpy as np\n",
    "\n",
    "city= []\n",
    "for file in data_list1[0][1:-1]:##略過第一個、最後一個\n",
    "    city.append(file[0])\n",
    "print(\"=======CITY======\")\n",
    "print(city)\n",
    "\n",
    "month = []\n",
    "for filename in csv_list2:\n",
    "\n",
    "    index = filename.find(\"_\")\n",
    "    filename = filename[:index]\n",
    "    name = \"20\"+filename\n",
    "    name = name\n",
    "    month.append(name)\n",
    "print(\"=======MONTH======\")\n",
    "print(month)\n",
    "\n",
    "\n",
    "\n",
    "title = [] \n",
    "data = {}\n",
    "\n",
    "# animal_all = []\n",
    "\n",
    "# for file in data_list1:\n",
    "#     animal_all.append(file[-1][-1])\n",
    "\n",
    "# for file in data_list2:\n",
    "#     animal_all.append(file[-1][-1])\n",
    "\n",
    "# # print(animal_all)\n",
    "# for i in range(len(animal_all)):\n",
    "#     if \",\" in animal_all[i]:\n",
    "#         animal_all[i] = animal_all[i].replace(\",\", \"\")\n",
    "#     animal_all[i] = int(animal_all[i])\n",
    "# print(animal_all)\n",
    "\n",
    "\n",
    "\n",
    "#     for rows in file:\n",
    "#         print(\"rows\")\n",
    "    #     rows = list(csv.reader(csvfile))\n",
    "    #     print(rows)\n",
    "    #     rows.pop(0)\n",
    "\n",
    "    #     for i in range(0,len(rows[0]) ):\n",
    "    #         title.append(rows[0][i]+rows[1][i])\n",
    "    #     print(title)\n",
    "    #     rows[1] = title \n",
    "    #     rows = rows[1:25]\n",
    "    #     print(rows)\n",
    "    #     df=pd.DataFrame(rows) \n",
    "    #     print(\"=======Finish handle title==========\")\n",
    "\n",
    "#         temp = np.array(rows).T.tolist()\n",
    "#         print(temp)\n",
    "#         print(rows)\n",
    "\n",
    "#         for i in range(0,len(title)):\n",
    "#             data[title[i]] = temp[i][1:]\n",
    "#             print(data)\n",
    "\n",
    "#     df=pd.DataFrame(data)\n",
    "#     print(df)\n",
    "#     print(df['當月收容隻數'])\n",
    "        \n",
    "\n",
    "\n"
   ]
  },
  {
   "cell_type": "code",
   "execution_count": 93,
   "metadata": {},
   "outputs": [],
   "source": [
    "#Function Definition\n",
    "def returnY(i,j,type):\n",
    "    y = []\n",
    "    for file in data_list2:\n",
    "        row = file[i]\n",
    "        \n",
    "        if type == 'isInt':\n",
    "            if \",\" in row[j]:\n",
    "                row[j] = row[j].replace(\",\", \"\")\n",
    "        \n",
    "        \n",
    "        value = int(row[j])\n",
    "        y.append(value)\n",
    "    return y"
   ]
  },
  {
   "cell_type": "code",
   "execution_count": 115,
   "metadata": {},
   "outputs": [
    {
     "data": {
      "text/plain": [
       "[<matplotlib.lines.Line2D at 0x11c3a3240>]"
      ]
     },
     "execution_count": 115,
     "metadata": {},
     "output_type": "execute_result"
    },
    {
     "data": {
      "image/png": "[encoded data removed]",
      "text/plain": [
       "<Figure size 432x288 with 1 Axes>"
      ]
     },
     "metadata": {},
     "output_type": "display_data"
    }
   ],
   "source": [
    "\n",
    "#月底在養數\n",
    "y = []\n",
    "#新北\n",
    "# for file in data_list2:\n",
    "#     row = file[1]\n",
    "#     if \",\" in row[-1]:\n",
    "#         row[-1] = row[-1].replace(\",\", \"\")\n",
    "#     value = int(row[-1])\n",
    "#     y1.append(value)\n",
    "\n",
    "for i in range(1,23):\n",
    "    y_i = returnY(1,-1,'isInt') \n",
    "    y.append(y_i)\n",
    "\n",
    "# plt.plot(month,y[0], marker='o',label='line1')\n",
    "# plt.plot(month,y[1], marker='o',label='line2')\n",
    "# plt.plot(month,y[2], marker='o',label='line3')\n",
    "\n"
   ]
  },
  {
   "cell_type": "code",
   "execution_count": null,
   "metadata": {},
   "outputs": [],
   "source": []
  },
  {
   "cell_type": "code",
   "execution_count": null,
   "metadata": {},
   "outputs": [],
   "source": []
  }
 ],
 "metadata": {
  "kernelspec": {
   "display_name": "Python 3",
   "language": "python",
   "name": "python3"
  },
  "language_info": {
   "codemirror_mode": {
    "name": "ipython",
    "version": 3
   },
   "file_extension": ".py",
   "mimetype": "text/x-python",
   "name": "python",
   "nbconvert_exporter": "python",
   "pygments_lexer": "ipython3",
   "version": "3.6.4"
  }
 },
 "nbformat": 4,
 "nbformat_minor": 2
}
